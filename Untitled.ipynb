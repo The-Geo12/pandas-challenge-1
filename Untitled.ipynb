{
 "cells": [
  {
   "cell_type": "code",
   "execution_count": null,
   "id": "b45c00b8-f0c1-4331-a55d-9fe29491a98e",
   "metadata": {},
   "outputs": [],
   "source": [
    "# How much did each of the top 5 clients by quantity spend? Check your work from Part 1 for client ids.\n",
    "\n",
    "client_ids = [33615, 66037, 46820, 38378, 24741]\n",
    "\n",
    "def client_total(client_id):\n",
    "    client_line = df.loc[df[\"client_id\"] == client_id, \"line_price\"]\n",
    "    return round(client_line.sum(),2)\n",
    "\n",
    "for client_id in client_ids:\n",
    "    print(f'{client_id} ${client_total(client_id)}')"
   ]
  },
  {
   "cell_type": "code",
   "execution_count": null,
   "id": "f8e19965-f519-4a24-ae82-7373d08e497e",
   "metadata": {},
   "outputs": [],
   "source": [
    "client_line1 = round(df.loc[df[\"client_id\"] == 33615, \"line_price\"].sum(),2)\n",
    "client_line2 = round(df.loc[df[\"client_id\"] == 66037, \"line_price\"].sum(),2)\n",
    "client_line3 = round(df.loc[df[\"client_id\"] == 46820, \"line_price\"].sum(),2)\n",
    "client_line4 = round(df.loc[df[\"client_id\"] == 38378, \"line_price\"].sum(),2)\n",
    "client_line5 = round(df.loc[df[\"client_id\"] == 24741, \"line_price\"].sum(),2)\n",
    "\n",
    "\n",
    "\n",
    "print(f'{client_id} ${client_line1}')\n",
    "print(f'{client_id} ${client_line2}')\n",
    "print(f'{client_id} ${client_total(client_id)}')\n",
    "print(f'{client_id} ${client_total(client_id)}')\n",
    "print(f'{client_id} ${client_total(client_id)}')"
   ]
  },
  {
   "cell_type": "code",
   "execution_count": null,
   "id": "f5e49327-d53d-4c12-a22f-4425d91ae777",
   "metadata": {},
   "outputs": [],
   "source": []
  },
  {
   "cell_type": "code",
   "execution_count": null,
   "id": "4a7d8ed5-4e16-4f39-b1d4-0b88d99f1433",
   "metadata": {},
   "outputs": [],
   "source": []
  },
  {
   "cell_type": "code",
   "execution_count": null,
   "id": "a568bfc0-f98d-4d0c-8c0e-8a870f5f67ef",
   "metadata": {},
   "outputs": [],
   "source": []
  },
  {
   "cell_type": "code",
   "execution_count": null,
   "id": "d900e5bc-3caa-4d20-a989-cb0f81c176f4",
   "metadata": {},
   "outputs": [],
   "source": []
  },
  {
   "cell_type": "code",
   "execution_count": null,
   "id": "ba9c9ab4-e032-4df9-bb3b-b063645806ba",
   "metadata": {},
   "outputs": [],
   "source": []
  },
  {
   "cell_type": "code",
   "execution_count": null,
   "id": "dd07273f-810e-40f3-8794-c4f6c6a93e6d",
   "metadata": {},
   "outputs": [],
   "source": []
  }
 ],
 "metadata": {
  "kernelspec": {
   "display_name": "Python 3 (ipykernel)",
   "language": "python",
   "name": "python3"
  },
  "language_info": {
   "codemirror_mode": {
    "name": "ipython",
    "version": 3
   },
   "file_extension": ".py",
   "mimetype": "text/x-python",
   "name": "python",
   "nbconvert_exporter": "python",
   "pygments_lexer": "ipython3",
   "version": "3.12.4"
  }
 },
 "nbformat": 4,
 "nbformat_minor": 5
}
